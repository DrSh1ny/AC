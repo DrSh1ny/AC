{
 "cells": [
  {
   "cell_type": "code",
   "execution_count": 43,
   "source": [
    "import pandas as pd\r\n",
    "import numpy as np\r\n",
    "import matplotlib.pyplot as plt\r\n",
    "from sklearn.model_selection import train_test_split\r\n",
    "from sklearn.tree import DecisionTreeClassifier\r\n",
    "from sklearn.metrics import classification_report, confusion_matrix, accuracy_score, precision_score, recall_score, f1_score\r\n",
    "from sklearn.tree import export_text\r\n",
    "\r\n",
    "from statistics import stdev\r\n",
    "\r\n",
    "\r\n",
    "data=pd.read_csv('./depression.csv')"
   ],
   "outputs": [],
   "metadata": {}
  },
  {
   "cell_type": "code",
   "execution_count": 44,
   "source": [
    "OUTCOME='D'\r\n",
    "\r\n",
    "def attr_probs(data,attr):\r\n",
    "    probs={}\r\n",
    "    values=np.unique(data[attr])\r\n",
    "    for i in values:\r\n",
    "        rows=data.loc[data[attr] == i]\r\n",
    "        negative=np.count_nonzero(rows['D']==0)\r\n",
    "        positive=np.count_nonzero(rows['D']==1)\r\n",
    "\r\n",
    "        probs[i]=positive/(positive+negative)\r\n",
    "\r\n",
    "    return probs\r\n",
    "\r\n"
   ],
   "outputs": [],
   "metadata": {}
  },
  {
   "cell_type": "code",
   "execution_count": 45,
   "source": [
    "print(attr_probs(data,'A'))"
   ],
   "outputs": [
    {
     "output_type": "stream",
     "name": "stdout",
     "text": [
      "{0: 0.6711111111111111, 1: 0.4052631578947368}\n"
     ]
    }
   ],
   "metadata": {}
  },
  {
   "cell_type": "code",
   "execution_count": 46,
   "source": [
    "def entropy(probs):\r\n",
    "    entropy=0\r\n",
    "    for i,value in enumerate(probs):\r\n",
    "        if value!=0:\r\n",
    "            entropy-=value*np.log2(value)\r\n",
    "    return entropy"
   ],
   "outputs": [],
   "metadata": {}
  },
  {
   "cell_type": "code",
   "execution_count": 47,
   "source": [
    "print(entropy([2/8, 0/8, 4/8, 2/8]))"
   ],
   "outputs": [
    {
     "output_type": "stream",
     "name": "stdout",
     "text": [
      "1.5\n"
     ]
    }
   ],
   "metadata": {}
  },
  {
   "cell_type": "code",
   "execution_count": 48,
   "source": [
    "def gain(data,attr):\r\n",
    "    total=data.shape[0]\r\n",
    "    sum=0\r\n",
    "\r\n",
    "    for key,value in attr_probs(data,attr).items():\r\n",
    "        nRows=len(data.loc[data[attr]==key])\r\n",
    "        portion=nRows/total\r\n",
    "        entropyS=entropy([value,1-value])\r\n",
    "        sum+=entropyS*portion\r\n",
    "\r\n",
    "    portion=np.count_nonzero(data['D']==1)/total\r\n",
    "    gain=entropy([portion,1-portion])-sum\r\n",
    "    return gain\r\n",
    "        \r\n"
   ],
   "outputs": [],
   "metadata": {}
  },
  {
   "cell_type": "code",
   "execution_count": 49,
   "source": [
    "TTRS = ['A', 'B', 'C']\r\n",
    "for attr in TTRS:\r\n",
    "    print('Gain {attr}: {gain:.2f}'.format(attr=attr, gain=gain(data, attr)))"
   ],
   "outputs": [
    {
     "output_type": "stream",
     "name": "stdout",
     "text": [
      "Gain A: 0.05\n",
      "Gain B: 0.02\n",
      "Gain C: 0.07\n"
     ]
    }
   ],
   "metadata": {}
  },
  {
   "cell_type": "code",
   "execution_count": 50,
   "source": [
    "labels=data.iloc[:,-1]\r\n",
    "samples=data.iloc[:,:-1]\r\n",
    "\r\n",
    "x_train,x_test,y_train,y_test=train_test_split(samples,labels,test_size=0.3,random_state=7)\r\n",
    "\r\n",
    "tree=DecisionTreeClassifier(criterion=\"entropy\")\r\n",
    "tree.fit(x_train,y_train)\r\n",
    "\r\n",
    "y_pred = tree.predict(x_test)\r\n",
    "print(classification_report(y_test,y_pred))\r\n",
    "\r\n",
    "print(export_text(decision_tree=tree,feature_names=['A','B','C']))"
   ],
   "outputs": [
    {
     "output_type": "stream",
     "name": "stdout",
     "text": [
      "              precision    recall  f1-score   support\n",
      "\n",
      "           0       0.72      0.62      0.66       154\n",
      "           1       0.66      0.76      0.71       152\n",
      "\n",
      "    accuracy                           0.69       306\n",
      "   macro avg       0.69      0.69      0.68       306\n",
      "weighted avg       0.69      0.69      0.68       306\n",
      "\n",
      "|--- C <= 1.50\n",
      "|   |--- A <= 0.50\n",
      "|   |   |--- B <= 0.50\n",
      "|   |   |   |--- C <= 0.50\n",
      "|   |   |   |   |--- class: 1\n",
      "|   |   |   |--- C >  0.50\n",
      "|   |   |   |   |--- class: 1\n",
      "|   |   |--- B >  0.50\n",
      "|   |   |   |--- C <= 0.50\n",
      "|   |   |   |   |--- class: 1\n",
      "|   |   |   |--- C >  0.50\n",
      "|   |   |   |   |--- class: 1\n",
      "|   |--- A >  0.50\n",
      "|   |   |--- C <= 0.50\n",
      "|   |   |   |--- B <= 0.50\n",
      "|   |   |   |   |--- class: 0\n",
      "|   |   |   |--- B >  0.50\n",
      "|   |   |   |   |--- class: 0\n",
      "|   |   |--- C >  0.50\n",
      "|   |   |   |--- B <= 0.50\n",
      "|   |   |   |   |--- class: 0\n",
      "|   |   |   |--- B >  0.50\n",
      "|   |   |   |   |--- class: 1\n",
      "|--- C >  1.50\n",
      "|   |--- B <= 0.50\n",
      "|   |   |--- A <= 0.50\n",
      "|   |   |   |--- class: 1\n",
      "|   |   |--- A >  0.50\n",
      "|   |   |   |--- class: 0\n",
      "|   |--- B >  0.50\n",
      "|   |   |--- A <= 0.50\n",
      "|   |   |   |--- class: 1\n",
      "|   |   |--- A >  0.50\n",
      "|   |   |   |--- class: 1\n",
      "\n"
     ]
    }
   ],
   "metadata": {}
  },
  {
   "cell_type": "markdown",
   "source": [
    "Example:\r\n",
    "case: cx = (A=1, B=1, C=1)\r\n",
    "path: (C <= 1.5) --> (A > 0.5) --> (C > 0.5) --> (B > 0.5) --> class 1\r\n",
    "\r\n",
    "Answer:\r\n",
    "case: c1 = (A=1, B=0, C=2)\r\n",
    "path: (C >  1.50) --> (B <= 0.50) --> (A >  0.50) --> class 0\r\n",
    "_\r\n",
    "case: c2 = (A=0, B=0, C=0)\r\n",
    "path: (C <= 1.50) --> (A <= 0.50) --> (B <= 0.50) --> (C <= 0.50) --> class 1\r\n",
    "_\r\n",
    "case: c3 = (A=0, B=0, C=1)\r\n",
    "path: (C <= 1.50) --> (A <= 0.50) --> (B <= 0.50) --> (C >  0.50) --> class 1\r\n",
    "_\r\n",
    "case: c4 = (A=1, B=1, C=0)\r\n",
    "path: (C <= 1.50) --> (A > 0.50) --> (C <= 0.50) --> (B >  0.50) --> class 0"
   ],
   "metadata": {}
  },
  {
   "cell_type": "code",
   "execution_count": 51,
   "source": [
    "#Exercicio 7\r\n",
    "true_negative, false_positive, false_negative, true_positive = confusion_matrix(y_test, y_pred).ravel()\r\n",
    "\r\n",
    "values = [true_negative, false_positive, false_negative, true_positive]\r\n",
    "labels = ['true_negative', 'false_positive', 'false_negative', 'true_positive']\r\n",
    "for i, value in enumerate(values):\r\n",
    "    print('{attr}: {value}'.format(attr=labels[i], value= value))\r\n",
    "\r\n",
    "print()\r\n",
    "\r\n",
    "#accuracy, precision, recall and f1-score .\r\n",
    "\r\n",
    "values = [accuracy_score(y_test, y_pred), precision_score(y_test, y_pred), recall_score(y_test, y_pred), f1_score(y_test, y_pred)]\r\n",
    "labels = ['accuracy_score', 'precision_score', 'recall_score', 'f1_score']\r\n",
    "\r\n",
    "for i, value in enumerate(values):\r\n",
    "    print('{attr}: {value:.2f}'.format(attr=labels[i], value= value))\r\n"
   ],
   "outputs": [
    {
     "output_type": "stream",
     "name": "stdout",
     "text": [
      "true_negative: 95\n",
      "false_positive: 59\n",
      "false_negative: 37\n",
      "true_positive: 115\n",
      "\n",
      "accuracy_score: 0.69\n",
      "precision_score: 0.66\n",
      "recall_score: 0.76\n",
      "f1_score: 0.71\n"
     ]
    }
   ],
   "metadata": {}
  },
  {
   "cell_type": "markdown",
   "source": [
    "Repeat the process of spliting the data, training the classifier and testing the classifier 100 times (use the values from 0 to 99 as random_state for the\r\n",
    "train_test_split function). Plot the accuracy across the 100 repetitions, reporting also its mean value and standard deviation."
   ],
   "metadata": {}
  },
  {
   "cell_type": "code",
   "execution_count": 55,
   "source": [
    "#Exercicio 8\r\n",
    "def plot_accuracy():\r\n",
    "    accuracy = np.array([])\r\n",
    "\r\n",
    "    for i in range(0,100):\r\n",
    "        labels=data.iloc[:,-1]\r\n",
    "        samples=data.iloc[:,:-1]\r\n",
    "\r\n",
    "        x_train,x_test,y_train,y_test=train_test_split(samples,labels,test_size=0.3)\r\n",
    "        y_pred = tree.predict(x_test)\r\n",
    "\r\n",
    "        accuracy = np.append(accuracy, accuracy_score(y_test, y_pred))\r\n",
    "    return accuracy\r\n",
    "    \r\n",
    "accuracy = plot_accuracy()\r\n",
    "plt.plot(np.arange(100), accuracy)\r\n",
    "plt.show()\r\n",
    "\r\n",
    "print(\"Average: {value:.2f}\".format(value= sum(accuracy)/100))\r\n",
    "print(\"Standard Deviation: {value:.2f}\".format(value= stdev(accuracy)))\r\n"
   ],
   "outputs": [
    {
     "output_type": "display_data",
     "data": {
      "image/png": "[encoded data removed]",
      "text/plain": [
       "<Figure size 432x288 with 1 Axes>"
      ]
     },
     "metadata": {
      "needs_background": "light"
     }
    },
    {
     "output_type": "stream",
     "name": "stdout",
     "text": [
      "Average: 0.69\n",
      "Standard Deviation: 0.02\n"
     ]
    }
   ],
   "metadata": {}
  }
 ],
 "metadata": {
  "interpreter": {
   "hash": "7bf1206e5827a6ee127f09f97dc9cad666a20d1af49121793f536427e17917f3"
  },
  "kernelspec": {
   "name": "python3",
   "display_name": "Python 3.9.7 64-bit ('ac_env': venv)"
  },
  "language_info": {
   "codemirror_mode": {
    "name": "ipython",
    "version": 3
   },
   "file_extension": ".py",
   "mimetype": "text/x-python",
   "name": "python",
   "nbconvert_exporter": "python",
   "pygments_lexer": "ipython3",
   "version": "3.9.7"
  }
 },
 "nbformat": 4,
 "nbformat_minor": 5
}