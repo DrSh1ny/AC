{
 "cells": [
  {
   "cell_type": "code",
   "execution_count": 119,
   "source": [
    "import pandas as pd\r\n",
    "import numpy as np\r\n",
    "from sklearn.model_selection import train_test_split\r\n",
    "from sklearn.tree import DecisionTreeClassifier\r\n",
    "from sklearn.metrics import classification_report\r\n",
    "from sklearn.tree import export_text\r\n",
    "\r\n",
    "data=pd.read_csv('./depression.csv')"
   ],
   "outputs": [],
   "metadata": {}
  },
  {
   "cell_type": "code",
   "execution_count": 97,
   "source": [
    "OUTCOME='D'\r\n",
    "\r\n",
    "def attr_probs(data,attr):\r\n",
    "    probs={}\r\n",
    "    values=np.unique(data[attr])\r\n",
    "    for i in values:\r\n",
    "        rows=data.loc[data[attr] == i]\r\n",
    "        negative=np.count_nonzero(rows['D']==0)\r\n",
    "        positive=np.count_nonzero(rows['D']==1)\r\n",
    "\r\n",
    "        probs[i]=positive/(positive+negative)\r\n",
    "\r\n",
    "    return probs\r\n",
    "\r\n"
   ],
   "outputs": [],
   "metadata": {}
  },
  {
   "cell_type": "code",
   "execution_count": 98,
   "source": [
    "print(attr_probs(data,'A'))"
   ],
   "outputs": [
    {
     "output_type": "stream",
     "name": "stdout",
     "text": [
      "{0: 0.6711111111111111, 1: 0.4052631578947368}\n"
     ]
    }
   ],
   "metadata": {}
  },
  {
   "cell_type": "code",
   "execution_count": 99,
   "source": [
    "def entropy(probs):\r\n",
    "    entropy=0\r\n",
    "    for i,value in enumerate(probs):\r\n",
    "        if value!=0:\r\n",
    "            entropy-=value*np.log2(value)\r\n",
    "    return entropy"
   ],
   "outputs": [],
   "metadata": {}
  },
  {
   "cell_type": "code",
   "execution_count": 100,
   "source": [
    "print(entropy([2/8, 0/8, 4/8, 2/8]))"
   ],
   "outputs": [
    {
     "output_type": "stream",
     "name": "stdout",
     "text": [
      "1.5\n"
     ]
    }
   ],
   "metadata": {}
  },
  {
   "cell_type": "code",
   "execution_count": 101,
   "source": [
    "def gain(data,attr):\r\n",
    "    total=data.shape[0]\r\n",
    "    sum=0\r\n",
    "\r\n",
    "    for key,value in attr_probs(data,attr).items():\r\n",
    "        nRows=len(data.loc[data[attr]==key])\r\n",
    "        portion=nRows/total\r\n",
    "        entropyS=entropy([value,1-value])\r\n",
    "        sum+=entropyS*portion\r\n",
    "\r\n",
    "    portion=np.count_nonzero(data['D']==1)/total\r\n",
    "    gain=entropy([portion,1-portion])-sum\r\n",
    "    return gain\r\n",
    "        \r\n"
   ],
   "outputs": [],
   "metadata": {}
  },
  {
   "cell_type": "code",
   "execution_count": 132,
   "source": [
    "TTRS = ['A', 'B', 'C']\r\n",
    "for attr in TTRS:\r\n",
    "    print('Gain {attr}: {gain:.2f}'.format(attr=attr, gain=gain(data, attr)))"
   ],
   "outputs": [
    {
     "output_type": "stream",
     "name": "stdout",
     "text": [
      "Gain A: 0.05\n",
      "Gain B: 0.02\n",
      "Gain C: 0.07\n"
     ]
    }
   ],
   "metadata": {}
  },
  {
   "cell_type": "code",
   "execution_count": 133,
   "source": [
    "labels=data.iloc[:,-1]\r\n",
    "samples=data.iloc[:,:-1]\r\n",
    "\r\n",
    "x_train,x_test,y_train,y_test=train_test_split(samples,labels,test_size=0.3,random_state=7)\r\n",
    "\r\n",
    "tree=DecisionTreeClassifier(criterion=\"entropy\")\r\n",
    "tree.fit(x_train,y_train)\r\n",
    "\r\n",
    "y_pred = tree.predict(x_test)\r\n",
    "print(classification_report(y_test,y_pred))\r\n",
    "\r\n",
    "print(export_text(decision_tree=tree,feature_names=['A','B','C']))"
   ],
   "outputs": [
    {
     "output_type": "stream",
     "name": "stdout",
     "text": [
      "              precision    recall  f1-score   support\n",
      "\n",
      "           0       0.72      0.62      0.66       154\n",
      "           1       0.66      0.76      0.71       152\n",
      "\n",
      "    accuracy                           0.69       306\n",
      "   macro avg       0.69      0.69      0.68       306\n",
      "weighted avg       0.69      0.69      0.68       306\n",
      "\n",
      "|--- C <= 1.50\n",
      "|   |--- A <= 0.50\n",
      "|   |   |--- B <= 0.50\n",
      "|   |   |   |--- C <= 0.50\n",
      "|   |   |   |   |--- class: 1\n",
      "|   |   |   |--- C >  0.50\n",
      "|   |   |   |   |--- class: 1\n",
      "|   |   |--- B >  0.50\n",
      "|   |   |   |--- C <= 0.50\n",
      "|   |   |   |   |--- class: 1\n",
      "|   |   |   |--- C >  0.50\n",
      "|   |   |   |   |--- class: 1\n",
      "|   |--- A >  0.50\n",
      "|   |   |--- C <= 0.50\n",
      "|   |   |   |--- B <= 0.50\n",
      "|   |   |   |   |--- class: 0\n",
      "|   |   |   |--- B >  0.50\n",
      "|   |   |   |   |--- class: 0\n",
      "|   |   |--- C >  0.50\n",
      "|   |   |   |--- B <= 0.50\n",
      "|   |   |   |   |--- class: 0\n",
      "|   |   |   |--- B >  0.50\n",
      "|   |   |   |   |--- class: 1\n",
      "|--- C >  1.50\n",
      "|   |--- B <= 0.50\n",
      "|   |   |--- A <= 0.50\n",
      "|   |   |   |--- class: 1\n",
      "|   |   |--- A >  0.50\n",
      "|   |   |   |--- class: 0\n",
      "|   |--- B >  0.50\n",
      "|   |   |--- A <= 0.50\n",
      "|   |   |   |--- class: 1\n",
      "|   |   |--- A >  0.50\n",
      "|   |   |   |--- class: 1\n",
      "\n"
     ]
    }
   ],
   "metadata": {}
  }
 ],
 "metadata": {
  "interpreter": {
   "hash": "f235277129f99b0d51d5b88de1d2efd27a68696268d0afe0be9b3556cddf7359"
  },
  "kernelspec": {
   "name": "python3",
   "display_name": "Python 3.8.10 64-bit ('AC': venv)"
  },
  "language_info": {
   "codemirror_mode": {
    "name": "ipython",
    "version": 3
   },
   "file_extension": ".py",
   "mimetype": "text/x-python",
   "name": "python",
   "nbconvert_exporter": "python",
   "pygments_lexer": "ipython3",
   "version": "3.8.10"
  }
 },
 "nbformat": 4,
 "nbformat_minor": 5
}