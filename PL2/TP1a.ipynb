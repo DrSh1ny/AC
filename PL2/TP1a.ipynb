{
 "cells": [
  {
   "cell_type": "markdown",
   "source": [
    "# Assignment 1 - Decision Trees and Clustering Techniques\r\n",
    "\r\n",
    "## *Aprendizagem Computacional - MEI | Computação Neuronal e Sistemas Difusos - MIEB*\r\n",
    "\r\n",
    "### by Catarina Silva and Marco SimÃµes\r\n",
    "\r\n",
    "_\r\n",
    "\r\n",
    "This assignment will assess the students knowledge on the following Machine Learning topics:\r\n",
    "- Decision Trees\r\n",
    "- Clustering Techniques\r\n",
    "\r\n",
    "The assignment is split into two sub-assignments: 1-a) Decision Trees (first week) and 1-b) Clustering Techniques (second week).\r\n",
    "\r\n",
    "Students should implement their solutions and answering the questions directly in the notebooks, and submit both files together in Inforestudante before the deadline: *06/10/2021*\r\n",
    "\r\n",
    "## Conditions: \r\n",
    "- *Groups:* two elements of the same PL class\r\n",
    "- *Duration:* 2 weeks\r\n",
    "- *Workload:* 8h per student\r\n",
    " \r\n"
   ],
   "metadata": {}
  },
  {
   "cell_type": "markdown",
   "source": [
    "# Assignment 1 - a) Decision Trees\n",
    "\n",
    "Consider the depression dataset, from Agresti, A. (2019). _An introduction to categorical data analysis (2nd ed.). John Wiley & Sons._ This dataset is composed by evaluations of 335 patients during 3 phase treatment. We want to learn a decision tree that, given the attributes A - Diagnosis Severity (0: Mild, 1: Severe), B - Treatment Type (0: Standard, 1: New drug) and C - Follow Up Time (0: 1 week, 1: 2 weeks, 2: 4 weeks), predicts D - Depression Outcome (0: Normal, 1: Abnormal).\n",
    "\n",
    "\n"
   ],
   "metadata": {}
  },
  {
   "cell_type": "code",
   "execution_count": 10,
   "source": [
    "import pandas as pd\r\n",
    "import numpy as np\r\n",
    "import matplotlib.pyplot as plt\r\n",
    "from sklearn.model_selection import train_test_split\r\n",
    "from sklearn.tree import DecisionTreeClassifier\r\n",
    "from sklearn.metrics import classification_report, confusion_matrix, accuracy_score, precision_score, recall_score, f1_score\r\n",
    "from sklearn.tree import export_text\r\n",
    "\r\n",
    "from statistics import stdev\r\n",
    "\r\n",
    "\r\n",
    "data=pd.read_csv('./depression.csv')"
   ],
   "outputs": [],
   "metadata": {}
  },
  {
   "cell_type": "markdown",
   "source": [
    "***\n",
    "### Ex. 1\n",
    "Create a function `attr_probs( data, attr )` that, given the dataset (`data`) and a attribute id (`attr`), computes the percentage of cases with Abnormal treatment outcome (D) for each attribute *value*. The function should return a dictionary with the different attribute values as keys and the correspondent percentages as values. Example: `attr_probs( data, 'A')` -> returns `{0: 0.67, 1: 0.41}`"
   ],
   "metadata": {}
  },
  {
   "cell_type": "code",
   "execution_count": 11,
   "source": [
    "OUTCOME='D'\r\n",
    "\r\n",
    "def attr_probs(data,attr):\r\n",
    "    probs={}\r\n",
    "    values=np.unique(data[attr])\r\n",
    "    for i in values:\r\n",
    "        rows=data.loc[data[attr] == i]\r\n",
    "        negative=np.count_nonzero(rows[OUTCOME]==0)\r\n",
    "        positive=np.count_nonzero(rows[OUTCOME]==1)\r\n",
    "\r\n",
    "        probs[i]=positive/(positive+negative)\r\n",
    "\r\n",
    "    return probs"
   ],
   "outputs": [],
   "metadata": {}
  },
  {
   "cell_type": "markdown",
   "source": [
    "***\n",
    "### Ex. 2\n",
    "Create a function `entropy( probs )` that, given a list probability values, returns the correspondent **entropy** value."
   ],
   "metadata": {}
  },
  {
   "cell_type": "code",
   "execution_count": 12,
   "source": [
    "def entropy(probs):\r\n",
    "    entropy=0\r\n",
    "    for i,value in enumerate(probs):\r\n",
    "        if value!=0:\r\n",
    "            entropy-=value*np.log2(value)\r\n",
    "    return entropy"
   ],
   "outputs": [],
   "metadata": {}
  },
  {
   "cell_type": "code",
   "execution_count": 13,
   "source": [
    "# example\r\n",
    "print(entropy([2/8, 0/8, 4/8, 2/8])) # should print 1.5"
   ],
   "outputs": [
    {
     "output_type": "stream",
     "name": "stdout",
     "text": [
      "1.5\n"
     ]
    }
   ],
   "metadata": {}
  },
  {
   "cell_type": "markdown",
   "source": [
    "***\n",
    "### Ex. 3 \n",
    "Create a function `gain( data, attr )` to compute the gain of an attribute. Make use of the functions developed in the previous exercises."
   ],
   "metadata": {}
  },
  {
   "cell_type": "code",
   "execution_count": 14,
   "source": [
    "def gain(data,attr):\r\n",
    "    total=data.shape[0]\r\n",
    "    sum=0\r\n",
    "\r\n",
    "    for key,value in attr_probs(data,attr).items():\r\n",
    "        nRows=len(data.loc[data[attr]==key])\r\n",
    "        portion=nRows/total\r\n",
    "        entropyS=entropy([value,1-value])\r\n",
    "        sum+=entropyS*portion\r\n",
    "\r\n",
    "    portion=np.count_nonzero(data[OUTCOME]==1)/total\r\n",
    "    gain=entropy([portion,1-portion])-sum\r\n",
    "    return gain"
   ],
   "outputs": [],
   "metadata": {}
  },
  {
   "cell_type": "markdown",
   "source": [
    "***\n",
    "### Ex. 4 \n",
    "\n",
    "Run the following code to compute the gain for the different attributes (*expected partial output:* `Gain A: 0.05`). In what does those results influence the design of the decision tree?"
   ],
   "metadata": {}
  },
  {
   "cell_type": "code",
   "execution_count": 15,
   "source": [
    "ATTRS = ['A', 'B', 'C']\r\n",
    "for attr in ATTRS:\r\n",
    "    print('Gain {attr}: {gain:.2f}'.format(attr=attr, gain=gain(data, attr)))\r\n",
    "\r\n",
    "print('Gain: {gain:.2f}'.format(gain=gain(data.loc[data['C']<=1.5], 'A')))\r\n",
    "print('Gain: {gain:.2f}'.format(gain=gain(data.loc[data['C']<=1.5], 'B')))"
   ],
   "outputs": [
    {
     "output_type": "stream",
     "name": "stdout",
     "text": [
      "Gain A: 0.05\n",
      "Gain B: 0.02\n",
      "Gain C: 0.07\n",
      "Gain: 0.07\n",
      "Gain: 0.01\n"
     ]
    }
   ],
   "metadata": {}
  },
  {
   "cell_type": "markdown",
   "source": [
    "\r\n",
    "**Answer:**\r\n",
    "\r\n",
    "Attributes with the most gain will be placed higher in the tree. For example, the root of the tree will be the attribute 'C' because it has the highest gain of all attributes (0.07>0.05>0.02).   "
   ],
   "metadata": {}
  },
  {
   "cell_type": "markdown",
   "source": [
    "***\n",
    "### Ex. 5\n",
    "\n",
    "Split the dataset into two sets (train set and test set), assigning randomly $70\\%$ of the cases to the train set and the remaining $30\\%$ to the test set. Use the `train_test_split` method from the `sklearn.model_selection` module, specifying the `random_state` with a value of $7$ for reproducibility purposes.\n",
    "\n",
    "Train a `DecisionTreeClassifier` (from the `sklearn.tree` module) using the training data. Enforce the use of the `entropy` criterion instead of the `gini` criterion. \n",
    "\n",
    "Resort to the function `export_text` from the `sklearn.tree` module to visualize the structure of the resulting tree. Are the results of **Ex. 4** congruent with the tree obtained here? Justify.\n",
    "\n"
   ],
   "metadata": {}
  },
  {
   "cell_type": "code",
   "execution_count": 16,
   "source": [
    "labels=data.iloc[:,-1]\r\n",
    "samples=data.iloc[:,:-1]\r\n",
    "\r\n",
    "x_train,x_test,y_train,y_test=train_test_split(samples,labels,test_size=0.3,random_state=7)\r\n",
    "\r\n",
    "tree=DecisionTreeClassifier(criterion=\"entropy\")\r\n",
    "tree.fit(x_train,y_train)\r\n",
    "\r\n",
    "y_pred = tree.predict(x_test)\r\n",
    "print(classification_report(y_test,y_pred))\r\n",
    "\r\n",
    "print(export_text(decision_tree=tree,feature_names=['A','B','C']))"
   ],
   "outputs": [
    {
     "output_type": "stream",
     "name": "stdout",
     "text": [
      "              precision    recall  f1-score   support\n",
      "\n",
      "           0       0.72      0.62      0.66       154\n",
      "           1       0.66      0.76      0.71       152\n",
      "\n",
      "    accuracy                           0.69       306\n",
      "   macro avg       0.69      0.69      0.68       306\n",
      "weighted avg       0.69      0.69      0.68       306\n",
      "\n",
      "|--- C <= 1.50\n",
      "|   |--- A <= 0.50\n",
      "|   |   |--- B <= 0.50\n",
      "|   |   |   |--- C <= 0.50\n",
      "|   |   |   |   |--- class: 1\n",
      "|   |   |   |--- C >  0.50\n",
      "|   |   |   |   |--- class: 1\n",
      "|   |   |--- B >  0.50\n",
      "|   |   |   |--- C <= 0.50\n",
      "|   |   |   |   |--- class: 1\n",
      "|   |   |   |--- C >  0.50\n",
      "|   |   |   |   |--- class: 1\n",
      "|   |--- A >  0.50\n",
      "|   |   |--- C <= 0.50\n",
      "|   |   |   |--- B <= 0.50\n",
      "|   |   |   |   |--- class: 0\n",
      "|   |   |   |--- B >  0.50\n",
      "|   |   |   |   |--- class: 0\n",
      "|   |   |--- C >  0.50\n",
      "|   |   |   |--- B <= 0.50\n",
      "|   |   |   |   |--- class: 0\n",
      "|   |   |   |--- B >  0.50\n",
      "|   |   |   |   |--- class: 1\n",
      "|--- C >  1.50\n",
      "|   |--- B <= 0.50\n",
      "|   |   |--- A <= 0.50\n",
      "|   |   |   |--- class: 1\n",
      "|   |   |--- A >  0.50\n",
      "|   |   |   |--- class: 0\n",
      "|   |--- B >  0.50\n",
      "|   |   |--- A <= 0.50\n",
      "|   |   |   |--- class: 1\n",
      "|   |   |--- A >  0.50\n",
      "|   |   |   |--- class: 1\n",
      "\n"
     ]
    }
   ],
   "metadata": {}
  },
  {
   "cell_type": "markdown",
   "source": [
    "\r\n",
    "**Answer:**\r\n",
    "\r\n",
    "Yes. 'C' is the root attribute as expected because it has the highest gain. Subsequently, in branch ('C'<=1.5), attribute A is the root because its gain for all data with ('C'<=1.5) is greater than the gain of B for the same data. According to our gain function, gain of A when ('C'<=1.5) is 0.07 while gain of B is 0.01. The same logic can be applied to the remmaining branches."
   ],
   "metadata": {}
  },
  {
   "cell_type": "markdown",
   "source": [
    "***\n",
    "### Ex 6\n",
    "\n",
    "Looking for the structure of the tree printed, evaluate the following cases (by hand) and provide the outcome class for each case, as well as the path from the root to the leaf (meaning, provide the conditions it evaluated as true to reach that class).\n",
    "\n",
    "**Cases:**<p>\n",
    "c1 = (A=1, B=0, C=2)<p>\n",
    "c2 = (A=0, B=0, C=0)<p>\n",
    "c3 = (A=0, B=0, C=1)<p>\n",
    "c4 = (A=1, B=1, C=0)<p>\n",
    "\n",
    "\n",
    "**Example:**<p>\n",
    "case: cx = (A=1, B=1, C=1)<p>\n",
    "path: (C <= 1.5) --> (A > 0.5) --> (C > 0.5) --> (B > 0.5) --> class 1<p>"
   ],
   "metadata": {}
  },
  {
   "cell_type": "markdown",
   "source": [
    "\r\n",
    "**Answer:**\r\n",
    "\r\n",
    "case: c1 = (A=1, B=0, C=2)<p>\r\n",
    "path: (C > 1.5) --> (B <= 0.5) --> (A > 0.5) --> class 0<p>\r\n",
    "_\r\n",
    "\r\n",
    "case: c2 = (A=0, B=0, C=0)<p>\r\n",
    "path: (C <= 1.5) --> (A <= 0.5) --> (B <= 0.5) --> (C <= 0.5) --> class 1<p>\r\n",
    "_\r\n",
    "\r\n",
    "case: c3 = (A=0, B=0, C=1)<p>\r\n",
    "path: (C <= 1.5) --> (A <= 0.5) --> (B <= 0.5) --> (C > 0.5) --> class 1<p>\r\n",
    "_\r\n",
    "\r\n",
    "case: c4 = (A=1, B=1, C=0)<p>\r\n",
    "path: (C <= 1.5) --> (A > 0.5) --> (C <= 0.5) --> (B > 0.5) --> class 0<p>\r\n",
    "\r\n"
   ],
   "metadata": {}
  },
  {
   "cell_type": "markdown",
   "source": [
    "***\n",
    "### Ex. 7\n",
    "\n",
    "Apply the decision tree trained in the previous exercise to the test data. Compare the predicted labels to the true labels, generating a confusion matrix (you can use the `confusion_matrix` function of the `sklearn.metrics` module for that). Report the **percentage** of `True Positives, True Negatives, False Positives and False Negatives`, as well as the metrics `accuracy, precision, recall and f1-score`.\n"
   ],
   "metadata": {}
  },
  {
   "cell_type": "code",
   "execution_count": 23,
   "source": [
    "true_negative, false_positive, false_negative, true_positive = confusion_matrix(y_test, y_pred).ravel()\r\n",
    "\r\n",
    "values = [true_negative, false_positive, false_negative, true_positive]\r\n",
    "labels = ['true_negative', 'false_positive', 'false_negative', 'true_positive']\r\n",
    "for i, value in enumerate(values):\r\n",
    "    print('{attr}: {value:.1f} %'.format(attr=labels[i], value= 100*value/y_pred.size))\r\n",
    "\r\n",
    "print()\r\n",
    "\r\n",
    "#accuracy, precision, recall and f1-score .\r\n",
    "\r\n",
    "values = [accuracy_score(y_test, y_pred), precision_score(y_test, y_pred), recall_score(y_test, y_pred), f1_score(y_test, y_pred)]\r\n",
    "labels = ['accuracy_score', 'precision_score', 'recall_score', 'f1_score']\r\n",
    "\r\n",
    "for i, value in enumerate(values):\r\n",
    "    print('{attr}: {value:.2f}'.format(attr=labels[i], value= value))"
   ],
   "outputs": [
    {
     "output_type": "stream",
     "name": "stdout",
     "text": [
      "306 - 306\n",
      "true_negative: 31.0 %\n",
      "false_positive: 19.3 %\n",
      "false_negative: 12.1 %\n",
      "true_positive: 37.6 %\n",
      "\n",
      "accuracy_score: 0.69\n",
      "precision_score: 0.66\n",
      "recall_score: 0.76\n",
      "f1_score: 0.71\n"
     ]
    }
   ],
   "metadata": {}
  },
  {
   "cell_type": "markdown",
   "source": [
    "***\n",
    "### Ex. 8\n",
    "Repeat the process of spliting the data, training the classifier and testing the classifier 100 times (use the values from 0 to 99 as `random_state` for the `train_test_split`function). Plot the accuracy across the 100 repetitions, reporting also its mean value and standard deviation.\n"
   ],
   "metadata": {}
  },
  {
   "cell_type": "code",
   "execution_count": 18,
   "source": [
    "def plot_accuracy():\r\n",
    "    accuracy = np.array([])\r\n",
    "\r\n",
    "    for i in range(0,100):\r\n",
    "        labels=data.iloc[:,-1]\r\n",
    "        samples=data.iloc[:,:-1]\r\n",
    "\r\n",
    "        x_train,x_test,y_train,y_test=train_test_split(samples,labels,test_size=0.3,random_state=i)\r\n",
    "        tree=DecisionTreeClassifier(criterion=\"entropy\")\r\n",
    "        tree.fit(x_train,y_train)\r\n",
    "        y_pred = tree.predict(x_test)\r\n",
    "\r\n",
    "        accuracy = np.append(accuracy, accuracy_score(y_test, y_pred))\r\n",
    "    return accuracy\r\n",
    "    \r\n",
    "accuracy = plot_accuracy()\r\n",
    "plt.plot(np.arange(100), accuracy)\r\n",
    "plt.xlabel(xlabel='Random State')\r\n",
    "plt.ylabel(ylabel='Accuracy')\r\n",
    "\r\n",
    "\r\n",
    "plt.show()\r\n",
    "\r\n",
    "print(\"Average: {value:.2f}\".format(value= sum(accuracy)/100))\r\n",
    "print(\"Standard Deviation: {value:.2f}\".format(value= stdev(accuracy)))"
   ],
   "outputs": [
    {
     "output_type": "display_data",
     "data": {
      "image/png": "[encoded data removed]",
      "text/plain": [
       "<Figure size 432x288 with 1 Axes>"
      ]
     },
     "metadata": {
      "needs_background": "light"
     }
    },
    {
     "output_type": "stream",
     "name": "stdout",
     "text": [
      "Average: 0.67\n",
      "Standard Deviation: 0.02\n"
     ]
    }
   ],
   "metadata": {}
  }
 ],
 "metadata": {
  "interpreter": {
   "hash": "7bf1206e5827a6ee127f09f97dc9cad666a20d1af49121793f536427e17917f3"
  },
  "kernelspec": {
   "name": "python3",
   "display_name": "Python 3.9.7 64-bit ('ac_env': venv)"
  },
  "language_info": {
   "codemirror_mode": {
    "name": "ipython",
    "version": 3
   },
   "file_extension": ".py",
   "mimetype": "text/x-python",
   "name": "python",
   "nbconvert_exporter": "python",
   "pygments_lexer": "ipython3",
   "version": "3.9.7"
  }
 },
 "nbformat": 4,
 "nbformat_minor": 2
}