{
 "cells": [
  {
   "cell_type": "code",
   "execution_count": 7,
   "source": [
    "import pandas as pd\r\n",
    "import numpy as np\r\n",
    "\r\n",
    "#...\r\n",
    "\r\n",
    "#...\r\n",
    "\r\n",
    "data=pd.read_csv('../PL2/depression.csv')\r\n",
    "\r\n",
    "data = data.iloc[:,:-1]\r\n",
    "labels = data.iloc[:,-1]\r\n",
    "\r\n",
    "print(data)"
   ],
   "outputs": [
    {
     "output_type": "stream",
     "name": "stdout",
     "text": [
      "      A  B  C\n",
      "0     0  0  0\n",
      "1     0  0  1\n",
      "2     0  0  2\n",
      "3     0  0  0\n",
      "4     0  0  1\n",
      "...  .. .. ..\n",
      "1015  1  1  1\n",
      "1016  1  1  2\n",
      "1017  1  1  0\n",
      "1018  1  1  1\n",
      "1019  1  1  2\n",
      "\n",
      "[1020 rows x 3 columns]\n"
     ]
    }
   ],
   "metadata": {}
  },
  {
   "cell_type": "code",
   "execution_count": 21,
   "source": [
    "OUTCOME='D'\r\n",
    "\r\n",
    "def attr_probs(data,attr):\r\n",
    "    probs={}\r\n",
    "    for i,sample in enumerate(data):\r\n",
    "        value=sample[attr]\r\n",
    "        out=sample[OUTCOME]\r\n",
    "        current=probs.get(value)\r\n",
    "        \r\n",
    "        if current==None:\r\n",
    "            probs.update(value,[0,0])\r\n",
    "        if(out):\r\n",
    "            current[0]+=1\r\n",
    "        else:\r\n",
    "            current[1]+=1\r\n",
    "        probs.update(value,current)\r\n",
    "\r\n",
    "        for key, value in probs.items():\r\n",
    "            probs.update(key, value[0]/(value[0]+value[1]))\r\n",
    "\r\n",
    "    return probs"
   ],
   "outputs": [],
   "metadata": {}
  },
  {
   "cell_type": "code",
   "execution_count": 19,
   "source": [
    "def entropy(probs):\r\n",
    "    entropy=0\r\n",
    "    for i,value in enumerate(probs):\r\n",
    "        entropy-=value*np.log2(value)\r\n",
    "    return entropy"
   ],
   "outputs": [],
   "metadata": {}
  },
  {
   "cell_type": "code",
   "execution_count": null,
   "source": [
    "def gain(data,attr):\r\n",
    "    probs=attr_probs(data,attr)\r\n",
    "    "
   ],
   "outputs": [],
   "metadata": {}
  },
  {
   "cell_type": "code",
   "execution_count": null,
   "source": [],
   "outputs": [],
   "metadata": {}
  },
  {
   "cell_type": "code",
   "execution_count": null,
   "source": [],
   "outputs": [],
   "metadata": {}
  }
 ],
 "metadata": {
  "language_info": {
   "name": "python",
   "version": "3.9.7",
   "mimetype": "text/x-python",
   "codemirror_mode": {
    "name": "ipython",
    "version": 3
   },
   "pygments_lexer": "ipython3",
   "nbconvert_exporter": "python",
   "file_extension": ".py"
  },
  "kernelspec": {
   "name": "python3",
   "display_name": "Python 3.9.7 64-bit ('ac_env': venv)"
  },
  "interpreter": {
   "hash": "7bf1206e5827a6ee127f09f97dc9cad666a20d1af49121793f536427e17917f3"
  }
 },
 "nbformat": 4,
 "nbformat_minor": 5
}